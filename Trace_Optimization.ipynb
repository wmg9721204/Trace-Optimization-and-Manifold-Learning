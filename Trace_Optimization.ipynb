{
 "cells": [
  {
   "cell_type": "markdown",
   "metadata": {},
   "source": [
    "**Goal**: \n",
    "Write functions, based on trace optimization, that implement \n",
    "1. PCA (Principal Component Analysis)\n",
    "2. MS (Multidimensional Scaling)\n",
    "3. Isomap (Isometric Mapping)\n",
    "4. LLE (Locally Linear Embedding)\n",
    "5. Eigen (Laplacian Eigenmap)"
   ]
  },
  {
   "cell_type": "markdown",
   "metadata": {},
   "source": [
    "**Main Reference**: [2010][E.Kokiopoulou,et al] Trace optimization and eigenproblems in dimension reduction methods <br>\n",
    "**URL**: https://onlinelibrary.wiley.com/doi/full/10.1002/nla.743"
   ]
  },
  {
   "cell_type": "code",
   "execution_count": null,
   "metadata": {
    "collapsed": true
   },
   "outputs": [],
   "source": []
  }
 ],
 "metadata": {
  "kernelspec": {
   "display_name": "Julia 1.0.0",
   "language": "julia",
   "name": "julia-1.0"
  },
  "language_info": {
   "file_extension": ".jl",
   "mimetype": "application/julia",
   "name": "julia",
   "version": "1.0.0"
  }
 },
 "nbformat": 4,
 "nbformat_minor": 2
}
