{
 "cells": [
  {
   "cell_type": "markdown",
   "metadata": {},
   "source": [
    "**Goal**: \n",
    "Write functions, based on trace optimization, that implement \n",
    "1. PCA (Principal Component Analysis)\n",
    "2. MS (Multidimensional Scaling)\n",
    "3. Isomap (Isometric Mapping)\n",
    "4. LLE (Locally Linear Embedding)\n",
    "5. Eigen (Laplacian Eigenmap)"
   ]
  },
  {
   "cell_type": "markdown",
   "metadata": {},
   "source": [
    "**Main Reference**: [2010][E.Kokiopoulou,et al] Trace optimization and eigenproblems in dimension reduction methods <br>\n",
    "**URL**: https://onlinelibrary.wiley.com/doi/full/10.1002/nla.743"
   ]
  },
  {
   "cell_type": "markdown",
   "metadata": {},
   "source": [
    "The standard form of optimization problem to solve is\n",
    "$$\n",
    "\\min_{\\substack{Y\\in\\mathbb{R}^{d\\times n}:\\\\\n",
    "YY^T = I_d\\\\\n",
    "y_1+\\cdots+y_n = 0}} \\text{tr}(YLY^T),\n",
    "$$\n",
    "where $L$ is a real symmetric matrix with $[1, ..., 1]^T$ is an eigenvector of $L$ with respect to $0$ and \n",
    "$$\n",
    "Y=\n",
    "\\begin{bmatrix}\n",
    "    |       & |   &        & | \\\\\n",
    "    y_1     & y_2 & \\cdots & y_d \\\\\n",
    "    |       & |   &        & |\n",
    "\\end{bmatrix}\n",
    "=\n",
    "\\begin{bmatrix}\n",
    "    -      & y^{(1)}   &   -\\\\\n",
    "           & \\vdots    &    \\\\\n",
    "    -      & y^{(n)}   &   -\n",
    "\\end{bmatrix}.\n",
    "$$\n"
   ]
  },
  {
   "cell_type": "markdown",
   "metadata": {},
   "source": [
    "One solution of this optimization problem is choosing $y^{(1)}, ..., y^{(n)}$ as the bottom eigenvectors (i.e. eigenvectors corresponding to the smallest eigenvalues) excluding the eigenvector $[1,...,1]^T$. "
   ]
  },
  {
   "cell_type": "code",
   "execution_count": null,
   "metadata": {
    "collapsed": true
   },
   "outputs": [],
   "source": []
  },
  {
   "cell_type": "code",
   "execution_count": null,
   "metadata": {
    "collapsed": true
   },
   "outputs": [],
   "source": []
  }
 ],
 "metadata": {
  "kernelspec": {
   "display_name": "Julia 1.0.0",
   "language": "julia",
   "name": "julia-1.0"
  },
  "language_info": {
   "file_extension": ".jl",
   "mimetype": "application/julia",
   "name": "julia",
   "version": "1.0.0"
  }
 },
 "nbformat": 4,
 "nbformat_minor": 2
}
